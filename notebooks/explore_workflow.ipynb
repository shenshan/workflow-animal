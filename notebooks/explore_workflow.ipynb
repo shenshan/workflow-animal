{
 "cells": [
  {
   "cell_type": "markdown",
   "metadata": {},
   "source": [
    "# DataJoint U24 Workflow Animal"
   ]
  },
  {
   "cell_type": "markdown",
   "metadata": {},
   "source": [
    "This notebook will describe the steps to explore the lab and animal management tables created by the elements.   \n",
    "Prior to using this notebook, please refer to the README for the installation instructions."
   ]
  },
  {
   "cell_type": "code",
   "execution_count": null,
   "metadata": {},
   "outputs": [],
   "source": [
    "# change to the upper level folder to detect dj_local_conf.json\n",
    "import os\n",
    "os.chdir('..')\n",
    "import datajoint as dj"
   ]
  },
  {
   "cell_type": "markdown",
   "metadata": {},
   "source": [
    "Importing the module `workflow_animal.pipeline` is sufficient to create tables inside the elements"
   ]
  },
  {
   "cell_type": "code",
   "execution_count": null,
   "metadata": {},
   "outputs": [],
   "source": [
    "from workflow_animal.pipeline import lab, subject, genotyping"
   ]
  },
  {
   "cell_type": "markdown",
   "metadata": {},
   "source": [
    "## Workflow architecture"
   ]
  },
  {
   "cell_type": "code",
   "execution_count": null,
   "metadata": {},
   "outputs": [],
   "source": [
    "dj.Diagram(lab)"
   ]
  },
  {
   "cell_type": "code",
   "execution_count": null,
   "metadata": {},
   "outputs": [],
   "source": [
    "dj.Diagram(subject)"
   ]
  },
  {
   "cell_type": "code",
   "execution_count": null,
   "metadata": {},
   "outputs": [],
   "source": [
    "dj.Diagram(genotyping) + dj.Diagram(subject.Subject) + dj.Diagram(subject.Allele)"
   ]
  },
  {
   "cell_type": "markdown",
   "metadata": {},
   "source": [
    "## Explore each table"
   ]
  },
  {
   "cell_type": "markdown",
   "metadata": {},
   "source": [
    "DataJoint provide tools to explore table definitions and table contents."
   ]
  },
  {
   "cell_type": "code",
   "execution_count": null,
   "metadata": {},
   "outputs": [],
   "source": [
    "# check table definition with describe()\n",
    "subject.Subject.describe();"
   ]
  },
  {
   "cell_type": "code",
   "execution_count": null,
   "metadata": {},
   "outputs": [],
   "source": [
    "# check table definition with dependencies with describe()\n",
    "subject.Zygosity.describe();"
   ]
  },
  {
   "cell_type": "code",
   "execution_count": null,
   "metadata": {},
   "outputs": [],
   "source": [
    "# check the name of every attribute with heading, \n",
    "# which will spell out the foreign key definition inherited from another table\n",
    "subject.Zygosity.heading"
   ]
  },
  {
   "cell_type": "code",
   "execution_count": null,
   "metadata": {},
   "outputs": [],
   "source": [
    "# check table contents\n",
    "subject.Subject()"
   ]
  },
  {
   "cell_type": "markdown",
   "metadata": {},
   "source": [
    "## Insert data into Manual and Lookup tables"
   ]
  },
  {
   "cell_type": "markdown",
   "metadata": {},
   "source": [
    "Tables in this workflow are either manual tables or lookup tables. To insert into these tables, DataJoint provide method `.insert1()` and `insert()`."
   ]
  },
  {
   "cell_type": "code",
   "execution_count": null,
   "metadata": {},
   "outputs": [],
   "source": [
    "# `insert1()` takes a dict or a tuple\n",
    "subject.Subject.insert1(\n",
    "    dict(subject='subject1', sex='M', subject_birth_date='2020-12-30', \n",
    "         subject_description='test animal'))\n",
    "subject.Subject.insert1(\n",
    "    ('subject2', 'F', '2020-11-30', 'test animal'))"
   ]
  },
  {
   "cell_type": "code",
   "execution_count": null,
   "metadata": {},
   "outputs": [],
   "source": [
    "subject.Subject()"
   ]
  },
  {
   "cell_type": "code",
   "execution_count": null,
   "metadata": {},
   "outputs": [],
   "source": [
    "# `insert()` takes a list of dicts or tuples\n",
    "subject.Subject.insert(\n",
    "    [dict(subject='subject3', sex='F', subject_birth_date='2020-12-30', \n",
    "          subject_description='test animal'),\n",
    "     dict(subject='subject4', sex='M', subject_birth_date='2021-02-12', \n",
    "          subject_description='test animal'),\n",
    "     dict(subject='subject5', sex='U', subject_birth_date='2020-12-30', \n",
    "          subject_description='test animal'),\n",
    "    ]\n",
    ")\n",
    "subject.Subject.insert(\n",
    "    [\n",
    "        ('subject6', 'M', '2020-07-30', 'test animal'),\n",
    "        ('subject7', 'U', '2020-08-30', 'test animal'),\n",
    "        ('subject8', 'F', '2020-09-30', 'test animal')\n",
    "    ]\n",
    ")"
   ]
  },
  {
   "cell_type": "code",
   "execution_count": null,
   "metadata": {},
   "outputs": [],
   "source": [
    "subject.Subject()"
   ]
  },
  {
   "cell_type": "markdown",
   "metadata": {},
   "source": [
    "For more documentation of insert, please refer to [DataJoint Docs](https://docs.datajoint.io/python/manipulation/1-Insert.html) and [DataJoint playground](https://playground.datajoint.io/)"
   ]
  },
  {
   "cell_type": "markdown",
   "metadata": {},
   "source": [
    "## Insert into Manual and Lookup tables with Graphical User Interface"
   ]
  },
  {
   "cell_type": "markdown",
   "metadata": {},
   "source": [
    "DataJoint Neuro also provides a Graphical User Interface [DataJoint Labbook](https://github.com/datajoint/datajoint-labbook) to support manual data insertions into DataJoint workflows.\n",
    "  \n",
    "![DataJoint Labbook preview](../images/DataJoint_Labbook.png)"
   ]
  }
 ],
 "metadata": {
  "kernelspec": {
   "display_name": "workflow-imaging",
   "language": "python",
   "name": "workflow-imaging"
  },
  "language_info": {
   "codemirror_mode": {
    "name": "ipython",
    "version": 3
   },
   "file_extension": ".py",
   "mimetype": "text/x-python",
   "name": "python",
   "nbconvert_exporter": "python",
   "pygments_lexer": "ipython3",
   "version": "3.7.0-final"
  }
 },
 "nbformat": 4,
 "nbformat_minor": 2
}